{
 "cells": [
  {
   "cell_type": "markdown",
   "metadata": {},
   "source": [
    "### 알고리즘 스터디\n",
    "\n",
    "명함 지갑을 만드는 회사에서 지갑의 크기를 정하려고 합니다. 다양한 모양과 크기의 명함들을 모두 수납할 수 있으면서, 작아서 들고 다니기 편한 지갑을 만들어야 합니다. 이러한 요건을 만족하는 지갑을 만들기 위해 디자인팀은 모든 명함의 가로 길이와 세로 길이를 조사했습니다.\n",
    "\n",
    "아래 표는 4가지 명함의 가로 길이와 세로 길이를 나타냅니다.\n",
    "\n",
    "명함 번호\t가로 길이\t세로 길이\n",
    "1\t60\t50\n",
    "2\t30\t70\n",
    "3\t60\t30\n",
    "4\t80\t40\n",
    "\n",
    "\n",
    "```\n",
    "\n",
    "제한사항\n",
    "sizes의 길이는 1 이상 10,000 이하입니다.\n",
    "sizes의 원소는 [w, h] 형식입니다.\n",
    "w는 명함의 가로 길이를 나타냅니다.\n",
    "h는 명함의 세로 길이를 나타냅니다.\n",
    "w와 h는 1 이상 1,000 이하인 자연수입니다.\n",
    "\n",
    "\n",
    "입출력 예\n",
    "sizes\tresult\n",
    "[[60, 50], [30, 70], [60, 30], [80, 40]]\t4000\n",
    "[[10, 7], [12, 3], [8, 15], [14, 7], [5, 15]]\t120\n",
    "[[14, 4], [19, 6], [6, 16], [18, 7], [7, 11]]\t133\n",
    "```\n",
    "\n"
   ]
  },
  {
   "cell_type": "code",
   "execution_count": 3,
   "metadata": {},
   "outputs": [],
   "source": [
    "# 내 풀이 1\n",
    "\n",
    "def solution(sizes):\n",
    "    max_width = 0\n",
    "    max_hight = 0\n",
    "\n",
    "    for idx, size in zip(range(len(sizes)) ,sizes):   \n",
    "        if max_width <= sorted(size)[0]:\n",
    "            max_width = sorted(size)[0]\n",
    "        if max_hight <= sorted(size)[1]:\n",
    "            max_hight = sorted(size)[1]\n",
    "\n",
    "        print(idx, size)\n",
    "    \n",
    "    answer = max_hight * max_width\n",
    "    return answer"
   ]
  },
  {
   "cell_type": "code",
   "execution_count": null,
   "metadata": {},
   "outputs": [],
   "source": []
  },
  {
   "cell_type": "code",
   "execution_count": 4,
   "metadata": {},
   "outputs": [],
   "source": [
    "# 고수 풀이 1\n",
    "def solution(sizes):\n",
    "    return max(max(x) for x in sizes) * max(min(x) for x in sizes)"
   ]
  },
  {
   "cell_type": "code",
   "execution_count": 5,
   "metadata": {},
   "outputs": [],
   "source": [
    "# 고수 풀이 2\n",
    "\n",
    "solution = lambda sizes: max(sum(sizes, [])) * max(min(size) for size in sizes)"
   ]
  },
  {
   "cell_type": "code",
   "execution_count": null,
   "metadata": {},
   "outputs": [],
   "source": []
  }
 ],
 "metadata": {
  "kernelspec": {
   "display_name": "Python 3",
   "language": "python",
   "name": "python3"
  },
  "language_info": {
   "codemirror_mode": {
    "name": "ipython",
    "version": 3
   },
   "file_extension": ".py",
   "mimetype": "text/x-python",
   "name": "python",
   "nbconvert_exporter": "python",
   "pygments_lexer": "ipython3",
   "version": "3.7.7"
  }
 },
 "nbformat": 4,
 "nbformat_minor": 4
}
